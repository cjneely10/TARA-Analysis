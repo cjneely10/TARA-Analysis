{
 "cells": [
  {
   "cell_type": "code",
   "execution_count": 5,
   "metadata": {
    "collapsed": true,
    "pycharm": {
     "is_executing": false
    }
   },
   "outputs": [
    {
     "name": "stdout",
     "text": [
      "(63, 124, 129, 221, 180, 197)\n('kingdom', 'phylum', 'class', 'order', 'family', 'genus')\n"
     ],
     "output_type": "stream"
    }
   ],
   "source": [
    "data = eval(\"( 63, 124, 129, 221, 180, 197)\")\n",
    "ids = (\"kingdom\", \"phylum\", \"class\", \"order\", \"family\", \"genus\")\n",
    "print(data)\n",
    "print(ids)"
   ]
  },
  {
   "cell_type": "code",
   "execution_count": 13,
   "outputs": [
    {
     "data": {
      "text/plain": "<Figure size 432x288 with 1 Axes>",
      "image/png": "[encoded data removed]"
     },
     "metadata": {
      "needs_background": "light"
     },
     "output_type": "display_data"
    }
   ],
   "source": [
    "import matplotlib.pyplot as plt\n",
    "\n",
    "x_pos = [i for i in range(len(data))]\n",
    "plt.bar(x_pos, data, color=\"green\")\n",
    "plt.xlabel(\"Taxonomic Level\")\n",
    "plt.ylabel(\"Count matching Delmont Data\")\n",
    "plt.ylim((0, 300))\n",
    "plt.axhline(y=274, color=\"black\", linestyle=\"dashed\")\n",
    "plt.xticks(x_pos, ids)\n",
    "plt.savefig(\"taxonomy-plot.png\", quality=95)\n",
    "plt.show()\n"
   ],
   "metadata": {
    "collapsed": false,
    "pycharm": {
     "name": "#%%\n",
     "is_executing": false
    }
   }
  }
 ],
 "metadata": {
  "kernelspec": {
   "display_name": "Python 3",
   "language": "python",
   "name": "python3"
  },
  "language_info": {
   "codemirror_mode": {
    "name": "ipython",
    "version": 2
   },
   "file_extension": ".py",
   "mimetype": "text/x-python",
   "name": "python",
   "nbconvert_exporter": "python",
   "pygments_lexer": "ipython2",
   "version": "2.7.6"
  },
  "pycharm": {
   "stem_cell": {
    "cell_type": "raw",
    "source": [],
    "metadata": {
     "collapsed": false
    }
   }
  }
 },
 "nbformat": 4,
 "nbformat_minor": 0
}