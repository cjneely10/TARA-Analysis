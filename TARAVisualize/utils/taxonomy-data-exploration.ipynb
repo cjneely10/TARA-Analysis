{
 "cells": [
  {
   "cell_type": "code",
   "execution_count": 1,
   "metadata": {
    "collapsed": true
   },
   "outputs": [],
   "source": [
    "from collections import Counter\n",
    "from sklearn import preprocessing\n",
    "from sklearn.preprocessing import LabelEncoder\n",
    "from sklearn.cluster import AgglomerativeClustering\n",
    "import pandas as pd\n",
    "import numpy as np\n",
    "import os\n",
    "%matplotlib inline\n",
    "import matplotlib.pyplot as plt\n",
    "enc = preprocessing.OneHotEncoder()\n",
    "lb_make = LabelEncoder()"
   ]
  },
  {
   "cell_type": "markdown",
   "source": [
    "Explore taxonomy data by region, depth, size fraction, and combinations"
   ],
   "metadata": {
    "collapsed": false,
    "pycharm": {
     "name": "#%% md\n"
    }
   }
  },
  {
   "cell_type": "code",
   "source": [
    "## Read data into pandas dataframe\n",
    "\n",
    "DATA_FILE = os.path.join(os.path.dirname(os.path.abspath(\"\")), \"data/tax-summary.tsv\")\n",
    "\n",
    "data_raw = pd.read_csv(DATA_FILE, delimiter=\"\\t\", na_values=\".\")\n",
    "data_raw.head()"
   ],
   "metadata": {
    "collapsed": false,
    "pycharm": {
     "name": "#%%\n"
    }
   },
   "execution_count": 2,
   "outputs": [
    {
     "data": {
      "text/plain": "                             ID        kingdom         clade           phylum  \\\n0   MS-all-SRF-20-180-00_bin-86        Metazoa  Opisthokonta       Arthropoda   \n1    MS-all-SRF-0-8-5-00_bin-16            NaN           Sar  Bacillariophyta   \n2    RS-all-SRF-0-8-5-00_bin-55  Viridiplantae           NaN      Chlorophyta   \n3   IO-all-SRF-0-8-5-00_bin-223            NaN           Sar              NaN   \n4  NAO-all-SRF-0-8-5-00_bin-662            NaN           Sar  Bacillariophyta   \n\n               class  subclass              order               family  \\\n0        Hexanauplia  Copepoda          Calanoida            Temoridae   \n1      Chrysophyceae       NaN      Chromulinales  Paraphysomonadaceae   \n2    Mamiellophyceae       NaN  Dolichomastigales       Pycnococcaceae   \n3        Dinophyceae       NaN      Gonyaulacales       Gonyaulacaceae   \n4  Bacillariophyceae       NaN      Bacillariales       Bacillariaceae   \n\n            genus                     species   region depth size_fraction  \n0      Eurytemora          Eurytemora affinis   MS-all   SRF     20-180-00  \n1  Paraphysomonas  Paraphysomonas bandaiensis   MS-all   SRF      0-8-5-00  \n2     Pycnococcus      Pycnococcus provasolii   RS-all   SRF      0-8-5-00  \n3     Alexandrium       Alexandrium tamarense   IO-all   SRF      0-8-5-00  \n4   Cylindrotheca    Cylindrotheca closterium  NAO-all   SRF      0-8-5-00  ",
      "text/html": "<div>\n<style scoped>\n    .dataframe tbody tr th:only-of-type {\n        vertical-align: middle;\n    }\n\n    .dataframe tbody tr th {\n        vertical-align: top;\n    }\n\n    .dataframe thead th {\n        text-align: right;\n    }\n</style>\n<table border=\"1\" class=\"dataframe\">\n  <thead>\n    <tr style=\"text-align: right;\">\n      <th></th>\n      <th>ID</th>\n      <th>kingdom</th>\n      <th>clade</th>\n      <th>phylum</th>\n      <th>class</th>\n      <th>subclass</th>\n      <th>order</th>\n      <th>family</th>\n      <th>genus</th>\n      <th>species</th>\n      <th>region</th>\n      <th>depth</th>\n      <th>size_fraction</th>\n    </tr>\n  </thead>\n  <tbody>\n    <tr>\n      <th>0</th>\n      <td>MS-all-SRF-20-180-00_bin-86</td>\n      <td>Metazoa</td>\n      <td>Opisthokonta</td>\n      <td>Arthropoda</td>\n      <td>Hexanauplia</td>\n      <td>Copepoda</td>\n      <td>Calanoida</td>\n      <td>Temoridae</td>\n      <td>Eurytemora</td>\n      <td>Eurytemora affinis</td>\n      <td>MS-all</td>\n      <td>SRF</td>\n      <td>20-180-00</td>\n    </tr>\n    <tr>\n      <th>1</th>\n      <td>MS-all-SRF-0-8-5-00_bin-16</td>\n      <td>NaN</td>\n      <td>Sar</td>\n      <td>Bacillariophyta</td>\n      <td>Chrysophyceae</td>\n      <td>NaN</td>\n      <td>Chromulinales</td>\n      <td>Paraphysomonadaceae</td>\n      <td>Paraphysomonas</td>\n      <td>Paraphysomonas bandaiensis</td>\n      <td>MS-all</td>\n      <td>SRF</td>\n      <td>0-8-5-00</td>\n    </tr>\n    <tr>\n      <th>2</th>\n      <td>RS-all-SRF-0-8-5-00_bin-55</td>\n      <td>Viridiplantae</td>\n      <td>NaN</td>\n      <td>Chlorophyta</td>\n      <td>Mamiellophyceae</td>\n      <td>NaN</td>\n      <td>Dolichomastigales</td>\n      <td>Pycnococcaceae</td>\n      <td>Pycnococcus</td>\n      <td>Pycnococcus provasolii</td>\n      <td>RS-all</td>\n      <td>SRF</td>\n      <td>0-8-5-00</td>\n    </tr>\n    <tr>\n      <th>3</th>\n      <td>IO-all-SRF-0-8-5-00_bin-223</td>\n      <td>NaN</td>\n      <td>Sar</td>\n      <td>NaN</td>\n      <td>Dinophyceae</td>\n      <td>NaN</td>\n      <td>Gonyaulacales</td>\n      <td>Gonyaulacaceae</td>\n      <td>Alexandrium</td>\n      <td>Alexandrium tamarense</td>\n      <td>IO-all</td>\n      <td>SRF</td>\n      <td>0-8-5-00</td>\n    </tr>\n    <tr>\n      <th>4</th>\n      <td>NAO-all-SRF-0-8-5-00_bin-662</td>\n      <td>NaN</td>\n      <td>Sar</td>\n      <td>Bacillariophyta</td>\n      <td>Bacillariophyceae</td>\n      <td>NaN</td>\n      <td>Bacillariales</td>\n      <td>Bacillariaceae</td>\n      <td>Cylindrotheca</td>\n      <td>Cylindrotheca closterium</td>\n      <td>NAO-all</td>\n      <td>SRF</td>\n      <td>0-8-5-00</td>\n    </tr>\n  </tbody>\n</table>\n</div>"
     },
     "execution_count": 2,
     "metadata": {},
     "output_type": "execute_result"
    }
   ]
  },
  {
   "cell_type": "code",
   "execution_count": 3,
   "outputs": [
    {
     "name": "stdout",
     "output_type": "stream",
     "text": [
      "848\n"
     ]
    },
    {
     "data": {
      "text/plain": "Counter({'MS-all': 92,\n         'RS-all': 19,\n         'IO-all': 121,\n         'NAO-all': 122,\n         'SPO-SPSG': 103,\n         'SPO-all': 128,\n         'NPO-all': 83,\n         'SAO-all': 113,\n         'SO-all': 33,\n         'SPO-PEOD': 18,\n         'SPO-CHIL': 16})"
     },
     "execution_count": 3,
     "metadata": {},
     "output_type": "execute_result"
    }
   ],
   "source": [
    "print(len(data_raw))\n",
    "Counter(data_raw.region)"
   ],
   "metadata": {
    "collapsed": false,
    "pycharm": {
     "name": "#%%\n"
    }
   }
  }
 ],
 "metadata": {
  "kernelspec": {
   "display_name": "Python 3",
   "language": "python",
   "name": "python3"
  },
  "language_info": {
   "codemirror_mode": {
    "name": "ipython",
    "version": 2
   },
   "file_extension": ".py",
   "mimetype": "text/x-python",
   "name": "python",
   "nbconvert_exporter": "python",
   "pygments_lexer": "ipython2",
   "version": "2.7.6"
  }
 },
 "nbformat": 4,
 "nbformat_minor": 0
}